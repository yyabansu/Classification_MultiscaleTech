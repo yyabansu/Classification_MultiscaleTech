{
 "cells": [
  {
   "cell_type": "code",
   "execution_count": null,
   "metadata": {},
   "outputs": [],
   "source": [
    "# default_exp core"
   ]
  },
  {
   "cell_type": "markdown",
   "metadata": {},
   "source": [
    "# Logistic regression classifier\n",
    "\n",
    "> API details."
   ]
  },
  {
   "cell_type": "code",
   "execution_count": null,
   "metadata": {},
   "outputs": [],
   "source": [
    "#hide\n",
    "from nbdev.showdoc import *\n",
    "from fastcore.test import *"
   ]
  },
  {
   "cell_type": "code",
   "execution_count": null,
   "metadata": {},
   "outputs": [],
   "source": [
    "#export\n",
    "import numpy as np \n",
    "import matplotlib.pyplot as plt \n",
    "from sklearn.linear_model import LogisticRegression\n",
    "from sklearn.model_selection import train_test_split, cross_val_predict, StratifiedKFold\n",
    "from sklearn.preprocessing import StandardScaler, MinMaxScaler\n",
    "from sklearn.metrics import confusion_matrix, classification_report\n",
    "\n",
    "class LRClassifier(object):\n",
    "    \n",
    "    # Initial Logistic Regression Function with parameters given: penalty, solver, CV, K (kfold - StartifiedKFold)\n",
    "    def __init__(self, X, Y, penalty = 'l2', solver = 'lbfgs', max_iter = 100, CV = 'kfold', K = None):\n",
    "        \n",
    "        self.Y = Y\n",
    "        self.X = X \n",
    "        \n",
    "        self.LR = LogisticRegression(random_state = 0, penalty = penalty, solver = solver, max_iter = max_iter)\n",
    "        self.LR.fit(X, Y)\n",
    "        self.Yh = self.LR.predict(X)\n",
    "\n",
    "        # Cross-Validated predictions for all of the data points using StratifiedKFold method\n",
    "        if CV.lower() == 'kfold':\n",
    "            if K == None:\n",
    "                K = 2\n",
    "\n",
    "            kf = StratifiedKFold(n_splits = K, shuffle = True)\n",
    "            self.YhCV = cross_val_predict(self.LR, X, Y, cv = kf)\n",
    "            \n",
    "    def get_values(self):\n",
    "        \n",
    "        return (self.Yh, self.YhCV)\n",
    "    \n",
    "    # Train-Test split and predictions on the Train and Test set\n",
    "    def train_test_predict(self, X, Y, K = None):\n",
    "\n",
    "        if K == None:\n",
    "            K = 0.2\n",
    "        \n",
    "        Xtrain, Xtest, Ytrain, self.Ytest = train_test_split(X, Y, test_size = K, shuffle = True)\n",
    "        \n",
    "        self.LR.fit(Xtrain, Ytrain)\n",
    "        self.YhTrain = self.LR.predict(Xtrain)\n",
    "        self.YhTest = self.LR.predict(Xtest)\n",
    "\n",
    "        return (self.YhTrain, self.YhTest, self.Ytest)\n",
    "    \n",
    "    # Show error metrics (Classification Report and Confusion Matrix) for the data - Test and CV\n",
    "    def show_error(self, target_names = None):\n",
    "        \n",
    "        # Classification metrics that give out precision, recall, f1-score for each class and the confucion matrix\n",
    "        cr = classification_report(self.Ytest, self.YhTest, target_names = target_names)\n",
    "        print('Classification Report: \\n', cr)\n",
    "        cm = confusion_matrix(self.Ytest, self.YhTest)\n",
    "        print('Confusion Matrix: \\n', cm)\n",
    "        \n",
    "        # Classification metrics that give out precision, recall, f1-score for each class and the confucion matrix\n",
    "        cr1 = classification_report(self.Y, self.YhCV, target_names = target_names)\n",
    "        print('\\n Classification Report CV: \\n', cr1)\n",
    "        cm1 = confusion_matrix(self.Y, self.YhCV)\n",
    "        print('Confusion Matrix CV: \\n', cm1)"
   ]
  }
 ],
 "metadata": {
  "kernelspec": {
   "display_name": "Python 3",
   "language": "python",
   "name": "python3"
  }
 },
 "nbformat": 4,
 "nbformat_minor": 2
}
